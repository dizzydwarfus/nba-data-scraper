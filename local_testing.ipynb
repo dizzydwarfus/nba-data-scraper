{
 "cells": [
  {
   "cell_type": "code",
   "execution_count": 1,
   "metadata": {},
   "outputs": [],
   "source": [
    "from nba_data_scraper.scraper import NBAScraper"
   ]
  },
  {
   "cell_type": "code",
   "execution_count": 2,
   "metadata": {},
   "outputs": [
    {
     "name": "stderr",
     "output_type": "stream",
     "text": [
      "2024-01-16 01:13:12,248 - player_scraper_logger - WARNING - \n",
      "-------------------------------------Start of Scraping Player Info!-------------------------------------\n",
      "2024-01-16 01:13:12,353 - player_scraper_logger - INFO - Request successful at URL: https://www.basketball-reference.com/players/b/\n",
      "2024-01-16 01:13:12,721 - player_scraper_logger - INFO - Scraped letter b | 499 players\n",
      "2024-01-16 01:13:12,724 - player_scraper_logger - INFO - Scraping players data for letter b\n",
      "2024-01-16 01:13:12,919 - player_scraper_logger - INFO - Request successful at URL: https://www.basketball-reference.com/players/b/\n",
      "2024-01-16 01:13:13,245 - player_scraper_logger - INFO - Scraped letter b | 499 players\n",
      "2024-01-16 01:13:13,247 - player_scraper_logger - INFO - Concatenated letter b | 499 players\n",
      "2024-01-16 01:13:13,248 - player_scraper_logger - INFO - Cycle lag time: 5\n",
      "2024-01-16 01:13:18,251 - player_scraper_logger - WARNING - \n",
      "-------------------------------------End of Scraping Player Info!-------------------------------------\n",
      "2024-01-16 01:13:18,252 - player_scraper_logger - WARNING - \n",
      "-------------------------------------Scraping Summary-------------------------------------\n",
      "2024-01-16 01:13:18,252 - player_scraper_logger - INFO - Total players scraped: 499\n",
      "2024-01-16 01:13:18,253 - player_scraper_logger - INFO - Total lag time: 5 seconds | 0.08 minutes | 0.0 hours\n",
      "2024-01-16 01:13:18,254 - player_scraper_logger - INFO - Failed letters: 0 out of 1 letters\n",
      "2024-01-16 01:13:18,255 - player_scraper_logger - INFO - Time elapsed: 6.006973505020142 seconds | 0.1 minutes | 0.0 hours\n",
      "2024-01-16 01:13:18,256 - player_scraper_logger - INFO - Averaged 6.01 seconds per letter\n",
      "2024-01-16 01:13:18,256 - player_scraper_logger - WARNING - \n",
      "------------------------------------------------------------------------------------------------------\n"
     ]
    }
   ],
   "source": [
    "scraper = NBAScraper()\n",
    "players = scraper.scrape_player_data(letter=['b'])"
   ]
  },
  {
   "cell_type": "code",
   "execution_count": null,
   "metadata": {},
   "outputs": [],
   "source": []
  }
 ],
 "metadata": {
  "kernelspec": {
   "display_name": "DataScience",
   "language": "python",
   "name": "python3"
  },
  "language_info": {
   "codemirror_mode": {
    "name": "ipython",
    "version": 3
   },
   "file_extension": ".py",
   "mimetype": "text/x-python",
   "name": "python",
   "nbconvert_exporter": "python",
   "pygments_lexer": "ipython3",
   "version": "3.9.12"
  }
 },
 "nbformat": 4,
 "nbformat_minor": 2
}
